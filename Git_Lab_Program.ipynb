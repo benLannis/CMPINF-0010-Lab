{
 "cells": [
  {
   "cell_type": "code",
   "execution_count": 20,
   "metadata": {},
   "outputs": [
    {
     "name": "stdin",
     "output_type": "stream",
     "text": [
      "What is your name?  Ben\n",
      "How old are you?  39\n"
     ]
    },
    {
     "name": "stdout",
     "output_type": "stream",
     "text": [
      "Hello, Ben. You are 39 years old.\n",
      "The z-score for you age is -0.007000000000000029\n",
      "This puts you in the 49.720742684322275th percentile\n"
     ]
    }
   ],
   "source": [
    "import math\n",
    "import scipy.stats\n",
    "\n",
    "## Declare some global data\n",
    "MEAN_AGE_IN_US = 39.14\n",
    "MEDIAN_AGE_IN_US = 38.6\n",
    "SD_ESTIMATE = 20\n",
    "\n",
    "## Get individual user input\n",
    "name = input(\"What is your name? \")\n",
    "age = int(input(\"How old are you? \"))\n",
    "\n",
    "## Compute z-score and percentile based on user input\n",
    "\n",
    "z_score = (age - MEAN_AGE_IN_US) / SD_ESTIMATE\n",
    "percentile = scipy.stats.norm.sf(abs(z_score)) * 100\n",
    "\n",
    "print(\"Hello, \" + name + \". You are \" + str(age) + \" years old.\")\n",
    "print(\"The z-score for you age is \" + str(z_score))\n",
    "print(\"This puts you in the \" + str(percentile) + \"th percentile\")"
   ]
  },
  {
   "cell_type": "code",
   "execution_count": null,
   "metadata": {},
   "outputs": [],
   "source": []
  }
 ],
 "metadata": {
  "kernelspec": {
   "display_name": "Python 3",
   "language": "python",
   "name": "python3"
  },
  "language_info": {
   "codemirror_mode": {
    "name": "ipython",
    "version": 3
   },
   "file_extension": ".py",
   "mimetype": "text/x-python",
   "name": "python",
   "nbconvert_exporter": "python",
   "pygments_lexer": "ipython3",
   "version": "3.8.3"
  }
 },
 "nbformat": 4,
 "nbformat_minor": 4
}
